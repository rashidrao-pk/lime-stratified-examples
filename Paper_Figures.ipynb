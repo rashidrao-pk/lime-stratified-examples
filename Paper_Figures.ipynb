{
 "cells": [
  {
   "cell_type": "markdown",
   "id": "8e4c9c81",
   "metadata": {},
   "source": [
    "# Code used to generate the paper figures\n",
    "This notebook contains the code used to generate the paper figures. \n",
    "It includes:\n",
    " - the code to generate the heatmaps/plots for LIME image with/without stratification\n",
    " - the code to generate the plots with the binomial distribution and the Shapley weight function\n",
    " - the plot to generate the comparison tables in the Experimental section, starting from the CSV file obtained from the long experiments."
   ]
  },
  {
   "cell_type": "code",
   "execution_count": null,
   "id": "e5383bad",
   "metadata": {},
   "outputs": [],
   "source": [
    "import utils as ut\n",
    "import numpy as np\n",
    "import pandas as pd\n",
    "import scipy.special\n",
    "import json, math,cv2\n",
    "import tensorflow as tf\n",
    "import sys, os, importlib\n",
    "import matplotlib.pyplot as plt\n",
    "pd.set_option('display.max_columns', None)\n",
    "from matplotlib.colors import LinearSegmentedColormap\n",
    "from tensorflow.keras.applications.resnet50 import ResNet50, preprocess_input\n",
    "\n",
    "# Stretch Notebook Width to 98% size of the Screen\n",
    "from IPython.display import display, HTML\n",
    "display(HTML(\"<style>.container { width:98% !important; }</style>\"))"
   ]
  },
  {
   "cell_type": "code",
   "execution_count": null,
   "id": "abdcb8b3",
   "metadata": {},
   "outputs": [],
   "source": [
    "Main_dir        =   os.getcwd()\n",
    "DS_path         =   os.path.join(Main_dir, \"data\")\n",
    "result_folder   =   os.path.join(Main_dir, \"result\")\n",
    "paper_figures   =   os.path.join(result_folder,\"Paper_Figures\")\n",
    "json_file       =   os.path.join(DS_path,\"imagenet_class_index.json\")\n",
    "\n",
    "ut.check_folders(result_folder)\n",
    "ut.check_folders(paper_figures)"
   ]
  },
  {
   "cell_type": "code",
   "execution_count": null,
   "id": "56b4f1ac",
   "metadata": {},
   "outputs": [],
   "source": [
    "# load pre-trained model and data\n",
    "model_name = 'ResNet50'\n",
    "model = ut.load_model(model_name)"
   ]
  },
  {
   "cell_type": "code",
   "execution_count": null,
   "id": "0f1ff715",
   "metadata": {},
   "outputs": [],
   "source": [
    "# getting ImageNet class names\n",
    "class_names = ut.get_ImageNet_ClassLabels(json_file) "
   ]
  },
  {
   "cell_type": "code",
   "execution_count": null,
   "id": "03a1c69c",
   "metadata": {},
   "outputs": [],
   "source": [
    "from lime_stratified.lime import lime_image\n",
    "from lime_stratified.lime.lime_image import LimeImageExplainer\n",
    "from lime_stratified.lime.wrappers.scikit_image import SegmentationAlgorithm"
   ]
  },
  {
   "cell_type": "code",
   "execution_count": null,
   "id": "1bbf3d58",
   "metadata": {},
   "outputs": [],
   "source": [
    "image_name = 'bird5'\n",
    "file = os.path.join(DS_path,image_name+'.png')\n",
    "image_to_explain = ut.read_process_image(file,model)"
   ]
  },
  {
   "cell_type": "markdown",
   "id": "1f489c4d",
   "metadata": {},
   "source": [
    "# Black-box prediction function\n",
    "NOTE: on some platforms this may require a change. "
   ]
  },
  {
   "cell_type": "code",
   "execution_count": null,
   "id": "cc190385",
   "metadata": {},
   "outputs": [],
   "source": [
    "def bb_predict(imgs):\n",
    "    # On some platform, you will need model.predict(..) instead of model(..)\n",
    "    return model.predict(preprocess_input(imgs), verbose=False)\n",
    "#     return model(preprocess_input(imgs))"
   ]
  },
  {
   "cell_type": "code",
   "execution_count": null,
   "id": "e057ba3f",
   "metadata": {},
   "outputs": [],
   "source": [
    "\n",
    "predicted = bb_predict(np.array([image_to_explain]))\n",
    "\n",
    "(predicted_cls_idx,f_x,predicted_cls_lbl) =  ut.get_class_idx_label_score (predicted,class_names)\n",
    "\n",
    "# predicted_cls = np.argmax(predicted[0])\n",
    "# f_x = predicted[0][predicted_cls]\n",
    "print('Predicted Class\\t\\t: \\t',predicted_cls_lbl,'\\nClass Probability\\t:\\t', f_x,'\\nPredicted Class Index\\t:\\t', predicted_cls_idx)"
   ]
  },
  {
   "cell_type": "code",
   "execution_count": null,
   "id": "69005e09",
   "metadata": {},
   "outputs": [],
   "source": [
    "from matplotlib import rc\n",
    "rc('text',usetex=True)\n",
    "\n",
    "from skimage.segmentation import mark_boundaries\n",
    "seg_algo = 'quickshift'\n",
    "max_dist,_,_,_ = ut.search_segment_number(image_to_explain, target_seg_no=50)\n",
    "\n",
    "segments,num_segments,segmenter_fn = ut.own_seg(image_to_explain,md=max_dist,ks=4,random_seed=1234,ratio=0.2)\n",
    "\n",
    "fig,axes = plt.subplots(1,2, figsize=(6,3))\n",
    "axes[0].imshow(image_to_explain)\n",
    "axes[1].imshow(mark_boundaries(image_to_explain, segments))\n",
    "plt.suptitle(f'{num_segments} segments')\n",
    "plt.savefig(f'{paper_figures}/{image_name}_image_{num_segments}_segments.svg', dpi=150, bbox_inches='tight', pad_inches=0.02)\n",
    "plt.show()"
   ]
  },
  {
   "cell_type": "code",
   "execution_count": null,
   "id": "9a6caf8f",
   "metadata": {
    "scrolled": true
   },
   "outputs": [],
   "source": [
    "lime_explainer = LimeImageExplainer(random_state=1234)\n",
    "use_stratification = True\n",
    "ret = lime_explainer.explain_instance(image_to_explain, bb_predict,\n",
    "                                      labels=class_names,\n",
    "                                      segmentation_fn=segmenter_fn,\n",
    "                                      top_labels=3, \n",
    "                                      hide_color=None,\n",
    "                                      use_stratification=use_stratification,\n",
    "                                      batch_size=100,\n",
    "                                      num_samples=1000)\n",
    "X, all_Ys, expl = ret                 # when return (data, labels, ret_exp)\n",
    "Y = all_Ys[:, predicted_cls_idx]"
   ]
  },
  {
   "cell_type": "code",
   "execution_count": null,
   "id": "7ac54761",
   "metadata": {},
   "outputs": [],
   "source": [
    "xpld_cls = expl.top_labels[0]\n",
    "g_x = expl.local_pred[xpld_cls][0]\n",
    "print('g(x) \\t\\t= ', g_x)\n",
    "beta = ut.get_beta_from_expl(expl)\n",
    "print('sum(beta) \\t= ', np.sum(beta))\n",
    "std_beta = np.std((beta))\n",
    "mean_beta = np.mean((beta))\n",
    "print('CV(beta) \\t= ',std_beta/mean_beta)"
   ]
  },
  {
   "cell_type": "code",
   "execution_count": null,
   "id": "52a2cf80",
   "metadata": {},
   "outputs": [],
   "source": [
    "from skimage.segmentation import mark_boundaries\n",
    "# def axis_off(ax):\n",
    "#     ax.set_xticks([], []) ; ax.set_yticks([], [])\n",
    "expl.image = image_to_explain\n",
    "heatmap = ut.heatmap_from_beta(segments, beta) \n",
    "v = np.max(np.abs(heatmap))\n",
    "print(f'v = {v}')\n",
    "\n",
    "temp_1, mask_1 = expl.get_image_and_mask(expl.top_labels[0], positive_only=True, num_features=1000, hide_rest=True, min_weight=v/2)\n",
    "temp_2, mask_2 = expl.get_image_and_mask(expl.top_labels[0], positive_only=True, num_features=1000, hide_rest=False, min_weight=v/2)\n",
    "\n",
    "fig, (ax1, ax2, ax3) = plt.subplots(1, 3, figsize=(10, 4))\n",
    "ax1.imshow(mark_boundaries(temp_1.astype(np.uint8), mask_1))\n",
    "ax2.imshow(mark_boundaries(temp_2.astype(np.uint8), mask_2))\n",
    "\n",
    "im = ax3.imshow(heatmap, cmap='bwr', vmin=-v, vmax=v)\n",
    "fig.colorbar(im, ax=ax3, shrink=0.60)\n",
    "ut.axis_off(ax1)\n",
    "ut.axis_off(ax2)\n",
    "ut.axis_off(ax3)\n",
    "ax2.set_title(f'predicted as {class_names[predicted_cls_idx]}  f(x)={f_x:.5}  g(x)={g_x:.5}')\n",
    "plt.savefig(f'{paper_figures}/{image_name}_image_mask_heatmap_single.svg', dpi=150, bbox_inches='tight', pad_inches=0.02)\n",
    "plt.show()"
   ]
  },
  {
   "cell_type": "code",
   "execution_count": null,
   "id": "e216c1f0",
   "metadata": {},
   "outputs": [],
   "source": [
    "# Feature Importance Heatmap generated based on beta values\n",
    "heatmap = ut.heatmap_from_beta(segments, beta) \n",
    "v = np.max(np.abs(heatmap))\n",
    "fig, ax = plt.subplots(1, 1, figsize=(2.5, 2.5))\n",
    "im = ax.imshow(heatmap, cmap='bwr', vmin=-v, vmax=v)\n",
    "fig.colorbar(im, ax=ax, shrink=0.55, orientation='horizontal', anchor=(.5, 1.5))\n",
    "ut.axis_off(ax)\n",
    "beta_title = '\\\\widehat{\\\\beta}' if use_stratification else '\\\\beta'\n",
    "plt.title(f'$k = {num_segments}$ \\n $CV({beta_title}) = \\\\mathbf{{ {ut.get_CV_beta(beta):.3} }}$')\n",
    "plt.tight_layout()\n",
    "plt.savefig(f'{paper_figures}/{image_name}_heatmap.svg', dpi=150, bbox_inches='tight', pad_inches=0.02)\n",
    "plt.show()"
   ]
  },
  {
   "cell_type": "code",
   "execution_count": null,
   "id": "e0b7667b",
   "metadata": {},
   "outputs": [],
   "source": [
    "# Classification Score Plot\n",
    "fig, ax = plt.subplots(1, 1, figsize=(2.5, 2.5))\n",
    "plt.gca().set_aspect('equal')\n",
    "ut.plot_classification_score(ax, expl, X, Y, f_x)\n",
    "plt.title(f'$RC(Y) = \\\\mathbf{{ {ut.get_RCY(Y, f_x):.3} }}$')\n",
    "plt.tight_layout()\n",
    "plt.savefig(f'{paper_figures}/{image_name}_RC_Y.png', dpi=150, bbox_inches='tight', pad_inches=0.02)"
   ]
  },
  {
   "cell_type": "markdown",
   "id": "0e69cb2b",
   "metadata": {},
   "source": [
    "# Generate the plot for the binomial distribution and the Shapley weight function (Figure 3)"
   ]
  },
  {
   "cell_type": "code",
   "execution_count": null,
   "id": "5eb37c85",
   "metadata": {},
   "outputs": [],
   "source": [
    "plt.rcParams.update({\"text.usetex\": True })\n",
    "N = 100 # segments\n",
    "markers = ['+','o','x']\n",
    "fig,axes = plt.subplots(2,2, figsize=(6, 3.2), sharex=True)\n",
    "for ii, k in enumerate([10, 20, 50]):\n",
    "    MD = [ut.pdf_bern(k, s) for s in range(k+1)]\n",
    "    print(np.min(MD))\n",
    "    axes[0,0].plot(range(k+1), MD, marker=markers[ii], markersize=3, label=f'$k$={k}', lw=.5)\n",
    "    axes[1,0].plot(range(k+1), MD, marker=markers[ii], markersize=3, label=f'$k$={k}', lw=.5)\n",
    "axes[0,0].set_title('\\\\noindent {\\\\bf (A)} Binomial distribution PMF $\\\\mathcal{B}(k, |m|)$\\\\\\\\ \\\\phantom{niim} for a Bernoulli process $B(0.5)$')#, loc='center')\n",
    "axes[1,0].set_xlabel('Number of preserved superpixels $|m|$')\n",
    "axes[1,0].set_yscale('log')\n",
    "axes[0,0].set_ylabel('Value')\n",
    "axes[1,0].set_ylabel('Value (logscale)')\n",
    "for ii, k in enumerate([10, 20, 50]):\n",
    "    MD = [ut.shapley_p(k, s) for s in range(k+1)]\n",
    "    print(np.min(MD))\n",
    "    axes[0,1].plot(range(k+1), MD, marker=markers[ii], markersize=3, label=f'$k$={k}', lw=.5)\n",
    "    axes[1,1].plot(range(k+1), MD, marker=markers[ii], markersize=3, label=f'$k$={k}', lw=.5)\n",
    "axes[0,1].set_title('{\\\\bf (B)} Shapley weight function $\\Gamma(k, |m|)$', loc='right')\n",
    "axes[1,1].set_xlabel('Number of preserved superpixels $|m|$')\n",
    "axes[1,1].set_yscale('log')\n",
    "axes[0,1].legend(loc='upper right')\n",
    "plt.tight_layout(pad=0.2)\n",
    "plt.savefig(f'{paper_figures}/binom-shapley.pdf', transparent=True, pad_inches=0.1, bbox_inches='tight')\n",
    "plt.show()"
   ]
  },
  {
   "cell_type": "markdown",
   "id": "3c1b9024",
   "metadata": {},
   "source": [
    "# Generate plots for the paper for Figure 4 and 5\n",
    "This code may take several minutes to run."
   ]
  },
  {
   "cell_type": "code",
   "execution_count": null,
   "id": "0d943120",
   "metadata": {
    "scrolled": true
   },
   "outputs": [],
   "source": [
    "file = os.path.join(DS_path,'ILSVRC2012_test_00000125.JPEG')\n",
    "image_to_explain = ut.read_process_image(file,model)\n",
    "\n",
    "predicted = bb_predict(np.array([image_to_explain]))\n",
    "\n",
    "(predicted_cls_idx,f_x,predicted_cls_lbl) =  ut.get_class_idx_label_score (predicted,class_names)\n",
    "f_x = predicted[0][predicted_cls_idx]\n",
    "print('Predicted Class\\t\\t:\\t',predicted_cls_lbl,'\\nClass Probability\\t:\\t', f_x,'\\nPredicted Class Index\\t:\\t', predicted_cls_idx)\n",
    "\n",
    "for k in [50, 100, 150, 200]:\n",
    "    max_dist,_,_,_ = ut.search_segment_number(image_to_explain, target_seg_no=k)\n",
    "    segments,num_segments,segmenter_fn = ut.own_seg(image_to_explain,md=max_dist,ks=4,random_seed=1234,ratio=0.2)\n",
    "\n",
    "    print(f'k, max_dist\\t        :\\t {k}, {max_dist}')   \n",
    "    for use_stratification in [False, True]:\n",
    "        sig = f'{k}_{use_stratification}'\n",
    "        lime_explainer = LimeImageExplainer(random_state=1234)\n",
    "        beta_arr, rcY_arr = [], []\n",
    "        print('Explanation for\\t\\t:\\t '+sig, end=' ')\n",
    "        for repeat in range(10):\n",
    "            print(repeat+1, end=' ')\n",
    "            ret = lime_explainer.explain_instance(preprocess_input(image_to_explain), bb_predict,\n",
    "                                                  labels=class_names, segmentation_fn=segmenter_fn,\n",
    "                                                  top_labels=3, hide_color=None, use_stratification=use_stratification,\n",
    "                                                  batch_size=100, num_samples=1000, progress_bar=False)\n",
    "            \n",
    "            X, all_Ys, expl = ret # when return (data, labels, ret_exp)\n",
    "            xpld_cls = expl.top_labels[0]\n",
    "            Y = all_Ys[:, xpld_cls]\n",
    "            \n",
    "            beta_arr.append(ut.get_beta_from_expl(expl)) \n",
    "            rcY_arr.append(ut.get_RCY(Y, f_x))\n",
    "            \n",
    "        beta = np.mean(beta_arr, axis=0)\n",
    "        \n",
    "        \n",
    "        heatmap = ut.heatmap_from_beta(segments, beta)\n",
    "        v = np.max(np.abs(heatmap))\n",
    "        fig, ax = plt.subplots(1, 1, figsize=(2.5, 2.5))\n",
    "        im = ax.imshow(heatmap, cmap='bwr', vmin=-v, vmax=v)\n",
    "        fig.colorbar(im, ax=ax, shrink=0.55, orientation='horizontal', anchor=(.5, 1.5))\n",
    "        ut.axis_off(ax)\n",
    "        beta_title = '\\\\widehat{\\\\beta}' if use_stratification else '\\\\beta'\n",
    "        plt.title(f'$k = {num_segments}$ \\n $CV({beta_title}) = \\\\mathbf{{ {ut.get_CV_beta(beta):.3} }}$')\n",
    "        plt.tight_layout()\n",
    "        plt.savefig(f'{paper_figures}/heatmap_{sig}.svg', dpi=150, bbox_inches='tight', pad_inches=0.02)\n",
    "#         plt.show()\n",
    "        \n",
    "        fig, ax = plt.subplots(1, 1, figsize=(2.5, 2.5))\n",
    "        plt.gca().set_aspect('equal')\n",
    "        ut.plot_classification_score(ax, expl, X, Y, f_x)\n",
    "        Y_title = '\\\\widehat{Y}' if use_stratification else 'Y'\n",
    "        plt.title(f'$RC({Y_title}) = \\\\mathbf{{ {np.mean(rcY_arr):.3} }}$')\n",
    "        plt.tight_layout()\n",
    "        plt.savefig(f'{paper_figures}/RC_Y_{sig}.svg', dpi=150, bbox_inches='tight', pad_inches=0.02)\n",
    "        plt.show()"
   ]
  },
  {
   "cell_type": "markdown",
   "id": "38b6aa31",
   "metadata": {},
   "source": [
    "# Generate the comparison plots (Figure 6)\n",
    "This code starts from the .CSV file of the long experiments, which may take more than 1 day to be computed."
   ]
  },
  {
   "cell_type": "code",
   "execution_count": null,
   "id": "46d61638",
   "metadata": {},
   "outputs": [],
   "source": [
    "num_samples                 = 1000\n",
    "segs_list                   = [50,100,150,200]\n",
    "\n",
    "# Change the filename if you do not want to use the precomputed results' CSV.\n",
    "df = pd.read_csv (f'result/precomputed_results_1000_1_150_[50, 100, 150, 200].csv', sep=';', index_col=0, \n",
    "                 dtype={'Hide_color':str, 'filename':str})\n",
    "\n",
    "df['IQR0595_Y'] = df.q95_Y - df.q05_Y\n",
    "df['IQR0199_Y'] = df.q99_Y - df.q01_Y\n",
    "df['IQR0595_Y_over_fx'] = df.IQR0595_Y / df.f_x\n",
    "df['IQR0199_Y_over_fx'] = df.IQR0199_Y / df.f_x\n",
    "df['RC_Y'] = df.IQR0199_Y_over_fx\n",
    "df['CV_beta'] = df.cv_beta\n",
    "df.head(3)"
   ]
  },
  {
   "cell_type": "code",
   "execution_count": null,
   "id": "90b5dec0",
   "metadata": {},
   "outputs": [],
   "source": [
    "# FIGURE 6  CV PLOTS\n",
    "fig, ax = plt.subplots(2,4,figsize=(6,3), sharey=True, sharex=False)\n",
    "\n",
    "for j, sss in enumerate(segs_list):    \n",
    "    df2 = df[(sss-50 <= df.segments) & (df.segments <= sss) & (df.hide_color =='mean-filled') ].copy()\n",
    "\n",
    "    df_orig = df2[(df2.use_stratification == False)].sort_values(by='filename')\n",
    "    df_seg = df2[df2.use_stratification == True].sort_values(by='filename')\n",
    "    \n",
    "    x1 = df_orig.RC_Y\n",
    "    y1 = df_orig.CV_beta  \n",
    "\n",
    "    x2 = df_seg.RC_Y\n",
    "    y2 = df_seg.CV_beta \n",
    "    \n",
    "    v = np.max([max(x2), max(y2), max(x1), max(y1)])\n",
    "    for i in range(2):\n",
    "        if i==0: ax[i,j].set_xlabel('RC($Y$)')\n",
    "        if i==1: ax[i,j].set_xlabel('RC($\\widehat{Y}$)')\n",
    "        if j==0 and i==0: ax[i,j].set_ylabel('Monte Carlo\\nCV($\\\\beta$)')\n",
    "        if j==0 and i==1: ax[i,j].set_ylabel('Stratified\\nCV($\\\\widehat\\\\beta$)')\n",
    "        ax[i,j].set_xlim(-0.1, 2.1)\n",
    "        ax[i,j].set_yscale('log'); ax[i,j].set_ylim(0.2, 20)\n",
    "        ax[0,j].set_xticks([0,1,2]) ; ax[0,j].set_xticklabels(['', '', ''])\n",
    "        ax[1,j].set_xticks([0,1,2])\n",
    "    def scatter_cv(ax, x, y):\n",
    "        H = 1.0\n",
    "        sel = (y > H)\n",
    "        ax.scatter(x[sel], y[sel], s=5, c='blue', alpha=0.25)\n",
    "        sel = (y <= H) \n",
    "        ax.scatter(x[sel], y[sel], s=4, c='red')\n",
    "        ax.plot([-10,10], [H,H], ls=':', c='red', lw=1)\n",
    "        ax.text(1.2, 0.4, f'{np.sum(sel)} images', c='darkred')\n",
    "    scatter_cv(ax[0,j], x1, y1)\n",
    "    scatter_cv(ax[1,j], x2, y2)\n",
    "    ax[0,j].set_title(f'$k={sss}$', fontsize=11)\n",
    "    \n",
    "plt.tight_layout(pad=0.2, w_pad=0)\n",
    "plt.savefig(f'{paper_figures}/CV_plots.pdf')"
   ]
  },
  {
   "cell_type": "code",
   "execution_count": null,
   "id": "cb926d90",
   "metadata": {},
   "outputs": [],
   "source": [
    "######### FIGURE 6 R2\n",
    "fig, ax = plt.subplots(1,4,figsize=(6,2), sharey=True, sharex=True)\n",
    "\n",
    "for j, sss in enumerate(segs_list):    \n",
    "    df2 = df[(sss-50 <= df.segments) & (df.segments <= sss) & (df.hide_color =='mean-filled') ].copy()\n",
    "\n",
    "    df_orig = df2[(df2.use_stratification == False)].sort_values(by='filename')\n",
    "    df_seg = df2[df2.use_stratification == True].sort_values(by='filename')\n",
    "    \n",
    "    x = df_orig.r2\n",
    "    y = df_seg.r2 \n",
    "    \n",
    "    ax[j].set_aspect('equal')\n",
    "    ax[j].set_xlabel('Monte Carlo $R^2$')\n",
    "    if j==0: ax[j].set_ylabel('\\nStratified $R^2$')\n",
    "    ax[j].set_xlim(0,1)\n",
    "    ax[j].set_ylim(0,1)\n",
    "    \n",
    "    sel = (x >= y)\n",
    "    ax[j].scatter(x[sel], y[sel], s=5, c='blue', alpha=0.50)\n",
    "    sel = (x < y)\n",
    "    ax[j].scatter(x[sel], y[sel], s=5, c='green', alpha=0.50)\n",
    "    ax[j].plot([0,1], [0,1], ls=':', c='black', lw=1)\n",
    "    ax[j].text(0.05, 0.75, 'stratif.\\nbetter')\n",
    "    ax[j].text(0.3, 0.05, 'M.C. better')\n",
    "    ax[j].set_title(f'$k={sss}$', fontsize=11)\n",
    "\n",
    "plt.tight_layout()\n",
    "plt.savefig(f'{paper_figures}/R2_plots.pdf')"
   ]
  },
  {
   "cell_type": "markdown",
   "id": "84a54b4f",
   "metadata": {},
   "source": [
    "# Generate plots for the selected examples (Figure 7)\n",
    "This code may take a few hours to complete."
   ]
  },
  {
   "cell_type": "code",
   "execution_count": null,
   "id": "8e12e5be",
   "metadata": {
    "scrolled": true
   },
   "outputs": [],
   "source": [
    "image_no = [\n",
    "    #orange  wardrobe  milk_can  lynx  ringneck_snake\n",
    "    114,     147,      60,       144,  66\n",
    "]\n",
    "for ino in image_no:\n",
    "    file = os.path.join(DS_path,f'ILSVRC2012_test_{ino:08}.JPEG')\n",
    "    image_to_explain = ut.read_process_image(file,model)\n",
    "    predicted = bb_predict(np.array([image_to_explain]))\n",
    "    (predicted_cls_idx,f_x,predicted_cls_lbl) =  ut.get_class_idx_label_score (predicted,class_names)\n",
    "    f_x = predicted[0][predicted_cls_idx]\n",
    "    print('Predicted Class\\t\\t:\\t',predicted_cls_lbl,'\\nClass Probability\\t:\\t', f_x,'\\nPredicted Class Index\\t:\\t', predicted_cls_idx)\n",
    "\n",
    "    for k in [50, 200]:\n",
    "        max_dist,_,_,_ = ut.search_segment_number(image_to_explain, target_seg_no=k)\n",
    "        segments,num_segments,segmenter_fn = ut.own_seg(image_to_explain,md=max_dist,ks=4,random_seed=1234,ratio=0.2)\n",
    "        print(f'k = {k}  max_dist = {max_dist}')\n",
    "        for use_stratification in [False, True]: \n",
    "            lime_explainer = LimeImageExplainer(random_state=1234)\n",
    "            beta_arr, rcY_arr = [], []\n",
    "            sig = f'{ino}_{k}_{use_stratification}'\n",
    "            for repeat in range(10):\n",
    "                ret = lime_explainer.explain_instance(image_to_explain, bb_predict,\n",
    "                                                      labels=class_names, segmentation_fn=segmenter_fn,\n",
    "                                                      top_labels=3, hide_color=None, use_stratification=use_stratification,\n",
    "                                                      batch_size=500, num_samples=1000, progress_bar=False)\n",
    "                X, all_Ys, expl = ret # when return (data, labels, ret_exp)\n",
    "                expainled_cls = expl.top_labels[0]\n",
    "                Y = all_Ys[:, expainled_cls]\n",
    "                beta_arr.append(ut.get_beta_from_expl(expl)) \n",
    "                rcY_arr.append(ut.get_RCY(Y, f_x))\n",
    "            beta = np.mean(beta_arr, axis=0)    \n",
    "            \n",
    "            heatmap = ut.heatmap_from_beta(segments, beta)\n",
    "            fig, (ax1,ax2) = plt.subplots(1, 2, figsize=(4, 2))\n",
    "            ax1.set_aspect('equal'); ax2.set_aspect('equal')\n",
    "            ut.axis_off(ax1); ut.axis_off(ax2)\n",
    "            v = np.max(np.abs(heatmap))\n",
    "            im = ax1.imshow(heatmap, cmap='bwr', vmin=-v, vmax=v)\n",
    "            ut.plot_classification_score(ax2, expl, X, Y, f_x, plot_everything=False)\n",
    "            plt.suptitle(f'{num_segments} $|$ {ut.get_CV_beta(beta):.3} $|$ {np.mean(rcY_arr):.3}', fontsize=28, y=1.05)\n",
    "            plt.savefig(f'{paper_figures}/dual_{sig}.svg', dpi=150, bbox_inches='tight', pad_inches=0.02)\n",
    "            plt.show()"
   ]
  },
  {
   "cell_type": "code",
   "execution_count": null,
   "id": "51f2ec6d",
   "metadata": {},
   "outputs": [],
   "source": []
  }
 ],
 "metadata": {
  "kernelspec": {
   "display_name": "Python 3 (ipykernel)",
   "language": "python",
   "name": "python3"
  },
  "language_info": {
   "codemirror_mode": {
    "name": "ipython",
    "version": 3
   },
   "file_extension": ".py",
   "mimetype": "text/x-python",
   "name": "python",
   "nbconvert_exporter": "python",
   "pygments_lexer": "ipython3",
   "version": "3.7.5"
  }
 },
 "nbformat": 4,
 "nbformat_minor": 5
}
